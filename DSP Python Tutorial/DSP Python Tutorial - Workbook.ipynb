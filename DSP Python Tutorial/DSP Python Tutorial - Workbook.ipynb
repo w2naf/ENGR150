{
 "cells": [
  {
   "cell_type": "markdown",
   "metadata": {},
   "source": [
    "# DSP Tutorial to Python, Numpy, and Matplotlib\n",
    "\n",
    "## Background\n",
    "\n",
    "We are going to be using the [Python 3](https://www.python.org/) data analysis ecosystem for many of the projects and homework in this class. When you get good at Python, it becomes an indispensable tool. Python itself is a high-level, interpreted general-purpose programming language. It becomes useful for data analysis through add-on libraries such as [NumPy (Numerical Python)](https://numpy.org/), [matplotlib (a plotting and visualization library)](https://matplotlib.org/), and many others. [Anaconda](https://www.anaconda.com/products/individual) is a cross-platform (Windows, Mac, and Linux) distribution and software environment manager that includes almost all of the major data analysis tools that you will need. Python and its data analysis libraries are free and open source but can often provide the same capabilities as the commercial product MATLAB.\n",
    "\n",
    "There are many different ways to run python code. In this class, we are going to focus on using the [Jupyter Lab / Jupyter Notebook environment](https://jupyter.org/). This is what you are using right now. It provides a friendly, interactive interface to python while giving you the ability to add-in formatted notes and comments. This is done through markdown cells; you can get a basic syntax guide here: https://www.markdownguide.org/basic-syntax/. You can even write equations directly in the markdown cells with $\\LaTeX$. [See here for documentation on $\\LaTeX$ in Jupyter Notebooks.]( https://jupyter-notebook.readthedocs.io/en/stable/examples/Notebook/Working%20With%20Markdown%20Cells.html#LaTeX-equations)\n",
    "\n",
    "Jupyter Notebooks are ideal for prototyping of your own ideas and code, sharing ideas with others, and submitting homework. As you need to do more complcated analysese, you may eventually move to actual python scripts and programming.\n",
    "\n",
    "## Learning Objectives\n",
    "The learning objectives of this tutorial are:\n",
    "1. Become familiar with the fundamentals of Jupyter Notebook and the Python Language.\n",
    "2. Learn the fundamentals of NumPy and Matplotlib\n",
    "3. Place these skills in the context of the Signals and Systems concepts we have learned in class so far."
   ]
  },
  {
   "cell_type": "markdown",
   "metadata": {},
   "source": [
    "# Imports"
   ]
  },
  {
   "cell_type": "code",
   "execution_count": 1,
   "metadata": {},
   "outputs": [],
   "source": [
    "# In this cell, we import the libraries and modules we need for our analysis.\n",
    "# It is good practice to keep all of the imports for a piece of code at the top\n",
    "# of the file. Note that we can import packages \"as\" a particular variable. This\n",
    "# allows us to use a shortcut/abbreviation when refering to that package later\n",
    "# in the script.\n",
    "\n",
    "import numpy as np\n",
    "import matplotlib.pyplot as plt\n",
    "\n",
    "# The following line tells matplotlib to plot directly in the Jupyter Notebook, as\n",
    "# opposed to creating a separate window.\n",
    "%matplotlib inline"
   ]
  },
  {
   "cell_type": "code",
   "execution_count": 2,
   "metadata": {},
   "outputs": [],
   "source": [
    "plt.rcParams['font.size']      = 18\n",
    "#plt.rcParams['font.weight']    = 'bold'\n",
    "plt.rcParams['axes.grid']      = True\n",
    "plt.rcParams['axes.xmargin']   = 0\n",
    "plt.rcParams['axes.ymargin']   = 0\n",
    "plt.rcParams['grid.linestyle'] = ':'\n",
    "plt.rcParams['figure.figsize'] = (8,6)"
   ]
  },
  {
   "cell_type": "markdown",
   "metadata": {},
   "source": [
    "# Plotting Signals with NumPy and Matplotlib\n",
    "To introduce NumPy and Matplotlib, we are going to reproduce the plots that were shown during the first lecture that illustrate Analog, Disctrete-Time, Quantized, and Digital Signals. These plots were all based off of the following signal: $x_a(t) = 10t\\ \\exp(-t)$."
   ]
  },
  {
   "cell_type": "markdown",
   "metadata": {},
   "source": [
    "## Analog Signal\n",
    "To start, we will start with the analog signal. As we said in class, it is not possible for the computer to actually store any type of continuous signal. But, we can make a plot of what looks like a continuous signal by making the sampling interval very small. We will make a time vector that extends from $t = 0$ to $4$ in steps of $0.001$."
   ]
  },
  {
   "cell_type": "code",
   "execution_count": 3,
   "metadata": {},
   "outputs": [],
   "source": [
    "# Create the time vector.\n"
   ]
  },
  {
   "cell_type": "code",
   "execution_count": 4,
   "metadata": {},
   "outputs": [],
   "source": [
    "# Print out the time vector.\n"
   ]
  },
  {
   "cell_type": "code",
   "execution_count": 5,
   "metadata": {},
   "outputs": [],
   "source": [
    "# Note that there are 4000 elements to this time vector.\n"
   ]
  },
  {
   "cell_type": "code",
   "execution_count": 6,
   "metadata": {},
   "outputs": [],
   "source": [
    "# Since we are going to create a few different signals based on the same formula,\n",
    "# let's create a function to make it easy to evalaute the formula many times.\n"
   ]
  },
  {
   "cell_type": "code",
   "execution_count": 7,
   "metadata": {},
   "outputs": [],
   "source": [
    "# Now calculate the actual signal.\n"
   ]
  },
  {
   "cell_type": "code",
   "execution_count": 8,
   "metadata": {},
   "outputs": [],
   "source": [
    "# Note that the signal x_a has the same shape/number of elements as the time vector t.\n"
   ]
  },
  {
   "cell_type": "markdown",
   "metadata": {},
   "source": [
    "The actual plotting is done below. Note how the axes and tick marks are clearly labeled. You always want your plots to be able to stand on their own. This is not only important for communicating your results to others, but also for yourself. It is easy to build up a collection of many plots in a project and not remember what was actually being plotted because the labels were not done well. "
   ]
  },
  {
   "cell_type": "code",
   "execution_count": null,
   "metadata": {},
   "outputs": [],
   "source": []
  },
  {
   "cell_type": "markdown",
   "metadata": {},
   "source": [
    "## Discrete-Time Signal\n",
    "We are able to create a discrete time signal from the analog signal by choosing a sampling period $T$, using a vector of itegers $k$, and applying the following formula:\n",
    "$$x(k) = x_a(kT) = 10kT\\ \\exp(-kT)$$\n",
    "\n",
    "Let's choose $T = 0.25$ s and have $k$ be integers from 0 to 16."
   ]
  },
  {
   "cell_type": "code",
   "execution_count": 9,
   "metadata": {},
   "outputs": [],
   "source": [
    "# First, define T and k.\n"
   ]
  },
  {
   "cell_type": "code",
   "execution_count": 10,
   "metadata": {},
   "outputs": [],
   "source": [
    "# Note that np.arange is not inclusive of the ending number. That is why we said np.arange(17) to get to 16!\n"
   ]
  },
  {
   "cell_type": "code",
   "execution_count": 11,
   "metadata": {},
   "outputs": [],
   "source": [
    "# Now we can calculate our discrete-time signal by plugging k*T into the function we defined earlier.\n"
   ]
  },
  {
   "cell_type": "code",
   "execution_count": 12,
   "metadata": {},
   "outputs": [],
   "source": [
    "# Now plot the signal. Note that we are now plotting in a discrete mode instead of a connected mode.\n"
   ]
  },
  {
   "cell_type": "markdown",
   "metadata": {},
   "source": [
    "## Quantized Signal\n",
    "\n",
    "A quantized signal can be generated by running the analog signal through the following operator:\n",
    "$$Q_N(x) = q \\cdot \\mathrm{round} \\left( \\frac{x}{q} \\right)$$\n",
    "\n",
    "Plot the analog signal given above using $q = 0.25$"
   ]
  },
  {
   "cell_type": "code",
   "execution_count": 13,
   "metadata": {},
   "outputs": [],
   "source": [
    "# Define the quantization function. Note that the documentation string (doc string) is defined right in triple quotes.\n"
   ]
  },
  {
   "cell_type": "code",
   "execution_count": 14,
   "metadata": {},
   "outputs": [],
   "source": [
    "# Define q and calculate the signal.\n"
   ]
  },
  {
   "cell_type": "code",
   "execution_count": 15,
   "metadata": {},
   "outputs": [],
   "source": [
    "# Plot the quantized signal. Note that we are back in connected plotting mode since this is a continuous-time signal.\n"
   ]
  },
  {
   "cell_type": "markdown",
   "metadata": {},
   "source": [
    "## Digital Signal\n",
    "A digital signal is a signal that is both discrete-time and quantized. **Use what you have learned above to plot a digitized version of $x_a(t) = 10t\\ \\exp(-t)$ with $q=0.25$, $T=0.25\\ \\textrm{s}$, and $k=0\\dots16$.**\n",
    "\n",
    "Make sure you all of your axis labesl are correct!"
   ]
  },
  {
   "cell_type": "code",
   "execution_count": 16,
   "metadata": {},
   "outputs": [],
   "source": [
    "# Quantize the already-calculed discrete time signal using the quantize funtion already defined.\n"
   ]
  },
  {
   "cell_type": "code",
   "execution_count": 17,
   "metadata": {},
   "outputs": [],
   "source": [
    "# Plot the digitized signal using discrete markers.\n"
   ]
  },
  {
   "cell_type": "markdown",
   "metadata": {},
   "source": [
    "# Comparing the Digital and Analog Signal\n",
    "To compare the digital and analog signal, create a single plot that has both the analog and digital signal on it. **Make sure you have your labels and legends correct!**\n",
    "\n",
    "**Hint:** You can start by copy-and-pasting the analog signal plot above and then modifying it. To overlay the second signal, simply issue the second plot command immediately after the first."
   ]
  },
  {
   "cell_type": "code",
   "execution_count": null,
   "metadata": {},
   "outputs": [],
   "source": []
  },
  {
   "cell_type": "markdown",
   "metadata": {},
   "source": [
    "# Additional Resources\n",
    "* [Matplotlib Gallery](https://matplotlib.org/gallery.html)\n",
    "* Remember that when you don't know how to do something, Google and [StackOverflow](https://stackoverflow.com/) are your friends!"
   ]
  },
  {
   "cell_type": "markdown",
   "metadata": {},
   "source": [
    "# Submitting to D2L\n",
    "1. When you think you are finished, **do a clean run of the notebook** by going to \"Kernel\" $\\rightarrow$ \"Restart Kernel and Run All Cells\".\n",
    "2. **Double-check the output for any errors!** Doing the clean run may reveal things that you thought were working are actually broken.\n",
    "3. **Save the notebook.**\n",
    "4. **Upload the final `*.ipynb` file to the D2L dropbox.** This file is stored locally on your computer. In Jupyter Lab, you can find the file path by right-clicking on the notebook tab and selecting \"Show File in Browser\". Alternatively, you can download a copy of the notebook in your browser by going to \"File\" $\\rightarrow$ \"Download\"."
   ]
  }
 ],
 "metadata": {
  "kernelspec": {
   "display_name": "Python 3",
   "language": "python",
   "name": "python3"
  },
  "language_info": {
   "codemirror_mode": {
    "name": "ipython",
    "version": 3
   },
   "file_extension": ".py",
   "mimetype": "text/x-python",
   "name": "python",
   "nbconvert_exporter": "python",
   "pygments_lexer": "ipython3",
   "version": "3.8.3"
  }
 },
 "nbformat": 4,
 "nbformat_minor": 4
}
